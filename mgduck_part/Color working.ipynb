{
 "cells": [
  {
   "cell_type": "markdown",
   "id": "217237e0",
   "metadata": {},
   "source": [
    "# 🎨  Нахождение цветов по теории Иттена"
   ]
  },
  {
   "cell_type": "code",
   "execution_count": 20,
   "id": "27c9af20",
   "metadata": {
    "ExecuteTime": {
     "end_time": "2023-08-26T04:38:04.368311Z",
     "start_time": "2023-08-26T04:38:04.227113Z"
    }
   },
   "outputs": [
    {
     "name": "stdout",
     "output_type": "stream",
     "text": [
      "(0.0, 0.7490196078431373, 1.0)\n",
      "(1.0, 0.25098039215686185, 0.0)\n",
      "(0.0, 0.2510196078431379, 1.0)\n",
      "(0.0, 1.0, 0.7529803921568625)\n",
      "(1.0, 0.0, 0.751019607843137)\n",
      "(0.7470196078431375, 1.0, 0.0)\n"
     ]
    },
    {
     "data": {
      "image/png": "[encoded data removed]",
      "text/plain": [
       "<Figure size 1200x200 with 6 Axes>"
      ]
     },
     "metadata": {},
     "output_type": "display_data"
    }
   ],
   "source": [
    "import colorsys\n",
    "import matplotlib.pyplot as plt\n",
    "import numpy as np\n",
    "\n",
    "base_color = \"#00BFFF\"  # Replace with your chosen base color\n",
    "\n",
    "def create_itten_palette(base_color,analogous_koef = 0.083, complementary_koef = 0.333):\n",
    "    # Convert hex color to RGB values\n",
    "    r, g, b = int(base_color[1:3], 16) / 255, int(base_color[3:5], 16) / 255, int(base_color[5:7], 16) / 255\n",
    "\n",
    "    \n",
    "    h, s, v = colorsys.rgb_to_hsv(r, g, b)\n",
    "    \n",
    "    # Calculate complementary color\n",
    "    h_comp = (h + 0.5) % 1\n",
    "    r_comp, g_comp, b_comp = colorsys.hsv_to_rgb(h_comp, s, v)\n",
    "\n",
    "    # Calculate analogous colors\n",
    "    h_analog1 = (h + 0.083) % 1\n",
    "    r_analog1, g_analog1, b_analog1 = colorsys.hsv_to_rgb(h_analog1, s, v)\n",
    "\n",
    "    h_analog2 = (h - 0.083) % 1\n",
    "    r_analog2, g_analog2, b_analog2 = colorsys.hsv_to_rgb(h_analog2, s, v)\n",
    "\n",
    "    # Calculate split complementary colors\n",
    "    h_split_comp1 = (h + 0.333) % 1\n",
    "    r_split_comp1, g_split_comp1, b_split_comp1 = colorsys.hsv_to_rgb(h_split_comp1, s, v)\n",
    "\n",
    "    h_split_comp2 = (h - 0.333) % 1\n",
    "    r_split_comp2, g_split_comp2, b_split_comp2 = colorsys.hsv_to_rgb(h_split_comp2, s, v)\n",
    "\n",
    "    color_wheel = [\n",
    "        (r, g, b),\n",
    "        (r_comp, g_comp, b_comp),\n",
    "        (r_analog1, g_analog1, b_analog1),\n",
    "        (r_analog2, g_analog2, b_analog2),\n",
    "        (r_split_comp1, g_split_comp1, b_split_comp1),\n",
    "        (r_split_comp2, g_split_comp2, b_split_comp2)\n",
    "    ]\n",
    "\n",
    "    return color_wheel\n",
    "\n",
    "\n",
    "itten_palette = create_itten_palette(base_color)\n",
    "\n",
    "# Display the color palette\n",
    "fig, ax = plt.subplots(1, len(itten_palette), figsize=(12, 2))\n",
    "for i, color in enumerate(itten_palette):\n",
    "    print(color)\n",
    "    ax[i].imshow(np.array([[color]]), extent=(0, 1, 0, 1), aspect='auto')\n",
    "    ax[i].axis('off')\n",
    "\n",
    "plt.show()"
   ]
  },
  {
   "cell_type": "markdown",
   "id": "258afa29",
   "metadata": {},
   "source": [
    "**❗ Паллитра выводится делённая на 255**"
   ]
  },
  {
   "cell_type": "markdown",
   "id": "c17cd175",
   "metadata": {},
   "source": [
    "# 🌗 RGB to Hex и обратно"
   ]
  },
  {
   "cell_type": "code",
   "execution_count": 11,
   "id": "6d6bf4e3",
   "metadata": {
    "ExecuteTime": {
     "end_time": "2023-08-26T04:33:21.311530Z",
     "start_time": "2023-08-26T04:33:21.303529Z"
    }
   },
   "outputs": [
    {
     "name": "stdout",
     "output_type": "stream",
     "text": [
      "#FF0080\n"
     ]
    }
   ],
   "source": [
    "def rgb_to_hex(r, g, b):\n",
    "    return \"#{:02X}{:02X}{:02X}\".format(r, g, b)\n",
    "\n",
    "def hex_to_rgb(hex_color):\n",
    "    hex_color = hex_color.lstrip('#')\n",
    "    r = int(hex_color[0:2], 16)\n",
    "    g = int(hex_color[2:4], 16)\n",
    "    b = int(hex_color[4:6], 16)\n",
    "    return r, g, b\n",
    "\n",
    "\n",
    "# Example usage\n",
    "red = 255\n",
    "green = 0\n",
    "blue = 128\n",
    "\n",
    "hex_color = rgb_to_hex(red, green, blue)\n",
    "print(hex_color)  # Output: \"#FF0080\""
   ]
  },
  {
   "cell_type": "markdown",
   "id": "7707719f",
   "metadata": {},
   "source": [
    "# 🌈 Цвета года "
   ]
  },
  {
   "cell_type": "code",
   "execution_count": 17,
   "id": "1ee78be5",
   "metadata": {
    "ExecuteTime": {
     "end_time": "2023-08-26T04:36:04.278334Z",
     "start_time": "2023-08-26T04:36:04.181333Z"
    }
   },
   "outputs": [
    {
     "data": {
      "image/png": "[encoded data removed]",
      "text/plain": [
       "<Figure size 1200x200 with 8 Axes>"
      ]
     },
     "metadata": {},
     "output_type": "display_data"
    }
   ],
   "source": [
    "# https://studio.everypixel.com/ru/blog/color-trends-2023\n",
    "\n",
    "year_colors = {'pantone_red': '#b73c58',\n",
    "               'dulux_white': '#c4b593',\n",
    "               'ppg_blue': '#4b7378',\n",
    "               'sw_sand': '#ae8e7e',\n",
    "               'behr_white': '#f1ede1',\n",
    "               'bm_red': '#d25f57',\n",
    "               'coloro_purple': '#ada7cb',\n",
    "               'coloro_apricot': '#e99460'}\n",
    "\n",
    "\n",
    "fig, ax = plt.subplots(1, len(year_colors.keys()), figsize=(12, 2))\n",
    "for i, color in enumerate(year_colors.values()):\n",
    "    ax[i].imshow(np.array([[(hex_to_rgb(color))]]), extent=(0, 1, 0, 1), aspect='auto')\n",
    "    ax[i].axis('off')\n",
    "\n",
    "plt.show()"
   ]
  }
 ],
 "metadata": {
  "kernelspec": {
   "display_name": "Python 3 (ipykernel)",
   "language": "python",
   "name": "python3"
  },
  "language_info": {
   "codemirror_mode": {
    "name": "ipython",
    "version": 3
   },
   "file_extension": ".py",
   "mimetype": "text/x-python",
   "name": "python",
   "nbconvert_exporter": "python",
   "pygments_lexer": "ipython3",
   "version": "3.9.10"
  },
  "varInspector": {
   "cols": {
    "lenName": 16,
    "lenType": 16,
    "lenVar": 40
   },
   "kernels_config": {
    "python": {
     "delete_cmd_postfix": "",
     "delete_cmd_prefix": "del ",
     "library": "var_list.py",
     "varRefreshCmd": "print(var_dic_list())"
    },
    "r": {
     "delete_cmd_postfix": ") ",
     "delete_cmd_prefix": "rm(",
     "library": "var_list.r",
     "varRefreshCmd": "cat(var_dic_list()) "
    }
   },
   "types_to_exclude": [
    "module",
    "function",
    "builtin_function_or_method",
    "instance",
    "_Feature"
   ],
   "window_display": false
  }
 },
 "nbformat": 4,
 "nbformat_minor": 5
}
