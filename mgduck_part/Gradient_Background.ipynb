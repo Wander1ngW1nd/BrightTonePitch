{
 "cells": [
  {
   "cell_type": "code",
   "execution_count": 27,
   "id": "75809788",
   "metadata": {
    "ExecuteTime": {
     "end_time": "2023-08-26T06:29:59.152836Z",
     "start_time": "2023-08-26T06:29:59.146784Z"
    }
   },
   "outputs": [],
   "source": [
    "def create_flowing_gradient_svg(color_0 = \"#00FFC0\", color_1 = \"#00BFFF\", color_2 = \"#0040FF\"):\n",
    "    svg_content = f'''\n",
    "<svg xmlns='http://www.w3.org/2000/svg' width='100%' height='100%' viewBox='0 0 4096 2160'>\n",
    "    <rect fill='#f5f5f5' width='4096' height='2160'/>\n",
    "        <defs>\n",
    "            \n",
    "            <linearGradient id=\"myGradient\" x1=\"0%\" y1=\"100%\" x2=\"100%\" y2=\"0%\" gradientTransform=\"rotate(0)\">\n",
    "                <stop offset=\"0%\" stop-color = \"{color_0}\" class=\"stop-1\"/>   \n",
    "                <stop offset=\"50%\" stop-color = \"{color_1}\" class=\"stop-2\"/>\n",
    "                <stop offset=\"100%\" stop-color = \"{color_2}\" class=\"stop-3\"/>\n",
    "            </linearGradient>\n",
    "        </defs>\n",
    "\n",
    "    <rect fill='url(#myGradient)' width='4096' height='2160'/>\n",
    "</svg>\n",
    "\n",
    "    '''\n",
    "    return svg_content"
   ]
  },
  {
   "cell_type": "code",
   "execution_count": 28,
   "id": "9dad7656",
   "metadata": {
    "ExecuteTime": {
     "end_time": "2023-08-26T06:29:59.343253Z",
     "start_time": "2023-08-26T06:29:59.332254Z"
    }
   },
   "outputs": [],
   "source": [
    "color_0 = \"#00FFC0\"  \n",
    "color_1 = \"#00BFFF\"\n",
    "color_2 = \"#0040FF\""
   ]
  },
  {
   "cell_type": "code",
   "execution_count": 29,
   "id": "b35f9d2b",
   "metadata": {
    "ExecuteTime": {
     "end_time": "2023-08-26T06:29:59.498782Z",
     "start_time": "2023-08-26T06:29:59.486824Z"
    }
   },
   "outputs": [],
   "source": [
    "with open('gradient_background.svg', 'w') as svg_file:\n",
    "    svg_file.write(create_flowing_gradient_svg(color_0, color_1, color_2))"
   ]
  }
 ],
 "metadata": {
  "kernelspec": {
   "display_name": "Python 3 (ipykernel)",
   "language": "python",
   "name": "python3"
  },
  "language_info": {
   "codemirror_mode": {
    "name": "ipython",
    "version": 3
   },
   "file_extension": ".py",
   "mimetype": "text/x-python",
   "name": "python",
   "nbconvert_exporter": "python",
   "pygments_lexer": "ipython3",
   "version": "3.9.10"
  },
  "varInspector": {
   "cols": {
    "lenName": 16,
    "lenType": 16,
    "lenVar": 40
   },
   "kernels_config": {
    "python": {
     "delete_cmd_postfix": "",
     "delete_cmd_prefix": "del ",
     "library": "var_list.py",
     "varRefreshCmd": "print(var_dic_list())"
    },
    "r": {
     "delete_cmd_postfix": ") ",
     "delete_cmd_prefix": "rm(",
     "library": "var_list.r",
     "varRefreshCmd": "cat(var_dic_list()) "
    }
   },
   "types_to_exclude": [
    "module",
    "function",
    "builtin_function_or_method",
    "instance",
    "_Feature"
   ],
   "window_display": false
  }
 },
 "nbformat": 4,
 "nbformat_minor": 5
}
